{
 "cells": [
  {
   "cell_type": "code",
   "execution_count": 6,
   "id": "9f1d4aed",
   "metadata": {},
   "outputs": [],
   "source": [
    "import os\n",
    "os.getcwd()\n",
    "os.chdir(\"/home/caohuythinh/Code/FormAutoRAG\")"
   ]
  },
  {
   "cell_type": "code",
   "execution_count": null,
   "id": "e0371140",
   "metadata": {},
   "outputs": [
    {
     "name": "stdout",
     "output_type": "stream",
     "text": [
      "Page title: Google\n",
      "Title after search: https://www.google.com/search?q=ChatGPT&sca_esv=7ce7144faa458147&source=hp&ei=QosnaIayIr7Bvr0PreHvgQI&iflsig=ACkRmUkAAAAAaCeZUgs0wYIKul_QPWj4oxdFhSOLIw7x&ved=0ahUKEwiG28Gl1qiNAxW-oK8BHa3wOyAQ4dUDCA0&uact=5&oq=ChatGPT&gs_lp=Egdnd3Mtd2l6IgdDaGF0R1BUMggQABiABBixAzIIEAAYgAQYsQMyCxAAGIAEGLEDGIMBMgsQABiABBixAxiDATILEAAYgAQYsQMYgwEyCBAAGIAEGLEDMgUQABiABDIFEAAYgAQyCxAAGIAEGLEDGIMBMgsQABiABBixAxiDAUiOCFAAWAZwAHgAkAEBmAFUoAG2AqoBATS4AQPIAQD4AQGYAgOgAu4BwgIEEAAYA5gDAJIHATOgB94SsgcBM7gH7gE&sclient=gws-wiz&sei=RYsnaLWFK6Ld1e8P0OLcoAs\n"
     ]
    }
   ],
   "source": [
    "from selenium.webdriver.common.by import By\n",
    "from selenium.webdriver.common.keys import Keys\n",
    "from selenium_automation.web_client import WebClient  # hoặc sửa path phù hợp\n",
    "import time\n",
    "\n",
    "def test_google_search():\n",
    "    client = WebClient(headless=True, wait_time=1)\n",
    "    try:\n",
    "        client.get(\"https://www.google.com\")\n",
    "        print(\"Page title:\", client.driver.title)\n",
    "\n",
    "        client.find_and_fill(By.NAME, \"q\", \"ChatGPT\")\n",
    "\n",
    "        # Gửi Enter để search\n",
    "        client.driver.find_element(By.NAME, \"q\").send_keys(Keys.RETURN)\n",
    "\n",
    "        # Đợi kết quả load\n",
    "        time.sleep(3)\n",
    "\n",
    "        print(\"Title after search:\", client.driver.title)\n",
    "    finally:\n",
    "        client.quit()\n",
    "\n",
    "if __name__ == \"__main__\":\n",
    "    test_google_search()"
   ]
  }
 ],
 "metadata": {
  "kernelspec": {
   "display_name": "myenv",
   "language": "python",
   "name": "python3"
  },
  "language_info": {
   "codemirror_mode": {
    "name": "ipython",
    "version": 3
   },
   "file_extension": ".py",
   "mimetype": "text/x-python",
   "name": "python",
   "nbconvert_exporter": "python",
   "pygments_lexer": "ipython3",
   "version": "3.13.3"
  }
 },
 "nbformat": 4,
 "nbformat_minor": 5
}
