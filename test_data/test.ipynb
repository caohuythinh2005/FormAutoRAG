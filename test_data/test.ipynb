{
 "cells": [
  {
   "cell_type": "code",
   "execution_count": 7,
   "id": "66836d41",
   "metadata": {},
   "outputs": [],
   "source": [
    "import os\n",
    "os.chdir(\"..\")"
   ]
  },
  {
   "cell_type": "code",
   "execution_count": 9,
   "id": "e0bdabde",
   "metadata": {},
   "outputs": [
    {
     "data": {
      "text/plain": [
       "'/home/caohuythinh/Code/FormAutoRAG'"
      ]
     },
     "execution_count": 9,
     "metadata": {},
     "output_type": "execute_result"
    }
   ],
   "source": [
    "os.getcwd()"
   ]
  },
  {
   "cell_type": "code",
   "execution_count": 10,
   "id": "b1dfa255",
   "metadata": {},
   "outputs": [],
   "source": [
    "from form_reader.pdf_reader import extract_text_from_pdf\n",
    "from form_reader.docx_reader import extract_text_from_docx\n",
    "from form_reader.html_reader import extract_text_from_html\n",
    "from form_reader.image_reader import extract_text_from_image"
   ]
  },
  {
   "cell_type": "code",
   "execution_count": 11,
   "id": "5628e21d",
   "metadata": {},
   "outputs": [
    {
     "name": "stderr",
     "output_type": "stream",
     "text": [
      "CropBox missing from /Page, defaulting to MediaBox\n",
      "CropBox missing from /Page, defaulting to MediaBox\n"
     ]
    },
    {
     "name": "stdout",
     "output_type": "stream",
     "text": [
      "=== PDF Reader ===\n",
      "Student Information Form\n",
      "Full Name: CaoHuyThinh\n",
      "Student ID: 20230069\n",
      "Major: CS\n"
     ]
    }
   ],
   "source": [
    "print(\"=== PDF Reader ===\")\n",
    "print(extract_text_from_pdf(\"./test_data/form_sample.pdf\"))"
   ]
  },
  {
   "cell_type": "code",
   "execution_count": 12,
   "id": "b06af3ab",
   "metadata": {},
   "outputs": [
    {
     "name": "stdout",
     "output_type": "stream",
     "text": [
      "\n",
      "=== DOCX Reader ===\n",
      "Student Information Form\n",
      "Full Name: CaoHuyThinh\n",
      "Student ID: 20230069\n",
      "Major: CS\n"
     ]
    }
   ],
   "source": [
    "print(\"\\n=== DOCX Reader ===\")\n",
    "print(extract_text_from_docx(\"./test_data/form_sample.docx\"))"
   ]
  },
  {
   "cell_type": "code",
   "execution_count": 14,
   "id": "6e5dd0b9",
   "metadata": {},
   "outputs": [
    {
     "name": "stdout",
     "output_type": "stream",
     "text": [
      "\n",
      "=== HTML Reader ===\n",
      "Form Sample\n",
      "Registration Form\n",
      "Full Name:\n",
      "Cao Huy Thinh\n",
      "Email:\n",
      "caohuythinh@gmail.com\n",
      "Age:\n",
      "20\n"
     ]
    }
   ],
   "source": [
    "print(\"\\n=== HTML Reader ===\")\n",
    "print(extract_text_from_html(\"./test_data/form_sample.html\"))"
   ]
  },
  {
   "cell_type": "code",
   "execution_count": null,
   "id": "ac59dbe3",
   "metadata": {},
   "outputs": [],
   "source": [
    "print(\"\\n=== Image Reader ===\")\n",
    "print(extract_text_from_image(\"./test_data/form_sample.png\"))"
   ]
  }
 ],
 "metadata": {
  "kernelspec": {
   "display_name": "myenv",
   "language": "python",
   "name": "python3"
  },
  "language_info": {
   "codemirror_mode": {
    "name": "ipython",
    "version": 3
   },
   "file_extension": ".py",
   "mimetype": "text/x-python",
   "name": "python",
   "nbconvert_exporter": "python",
   "pygments_lexer": "ipython3",
   "version": "3.13.3"
  }
 },
 "nbformat": 4,
 "nbformat_minor": 5
}
